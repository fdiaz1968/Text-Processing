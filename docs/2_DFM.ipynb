{
 "cells": [
  {
   "cell_type": "markdown",
   "metadata": {
    "id": "CuD_nKP6vyYP"
   },
   "source": [
    "\n",
    "\n",
    "---\n",
    "\n",
    "\n",
    "\n",
    "# I. Document Feature Matrix (dfm)\n",
    "\n",
    "Un **dfm** una representación de texto que muestra la frecuencia de ocurrencia de las palabras en un corpus de documentos.\n",
    "\n",
    "En un dfm, las filas representan los documentos individuales del corpus y las columnas representan los términos presentes en los documentos. Cada celda de la matriz indica la frecuencia con la que un término ocurre en un documento en particular."
   ]
  },
  {
   "cell_type": "code",
   "execution_count": 1,
   "metadata": {
    "colab": {
     "base_uri": "https://localhost:8080/"
    },
    "executionInfo": {
     "elapsed": 314848,
     "status": "ok",
     "timestamp": 1690300668677,
     "user": {
      "displayName": "Fernando Diaz",
      "userId": "16819680563727310863"
     },
     "user_tz": 240
    },
    "id": "HeHICLkhvwek",
    "outputId": "5840f82f-8e79-4bd1-fae6-95eb7662ec19",
    "vscode": {
     "languageId": "r"
    }
   },
   "outputs": [
    {
     "name": "stderr",
     "output_type": "stream",
     "text": [
      "Package version: 3.3.1\n",
      "Unicode version: 13.0\n",
      "ICU version: 69.1\n",
      "\n",
      "Parallel computing: 20 of 20 threads used.\n",
      "\n",
      "See https://quanteda.io for tutorials and examples.\n",
      "\n"
     ]
    }
   ],
   "source": [
    "#install.packages(\"quanteda\")\n",
    "library(quanteda)\n"
   ]
  },
  {
   "cell_type": "markdown",
   "metadata": {},
   "source": [
    "---\n",
    "## Un ejemplo"
   ]
  },
  {
   "cell_type": "code",
   "execution_count": 2,
   "metadata": {
    "vscode": {
     "languageId": "r"
    }
   },
   "outputs": [
    {
     "data": {
      "text/html": [
       "<style>\n",
       ".dl-inline {width: auto; margin:0; padding: 0}\n",
       ".dl-inline>dt, .dl-inline>dd {float: none; width: auto; display: inline-block}\n",
       ".dl-inline>dt::after {content: \":\\0020\"; padding-right: .5ex}\n",
       ".dl-inline>dt:not(:first-of-type) {padding-left: .5ex}\n",
       "</style><dl class=dl-inline><dt>text1</dt><dd>'Mario es un gran empresario. Creó su propia empresa a partir de un modesto emprendimiento.'</dd><dt>text2</dt><dd>'Las empresas, los emprendedores\\n y sus emprendimientos generan riqueza.'</dd></dl>\n"
      ],
      "text/latex": [
       "\\begin{description*}\n",
       "\\item[text1] 'Mario es un gran empresario. Creó su propia empresa a partir de un modesto emprendimiento.'\n",
       "\\item[text2] 'Las empresas, los emprendedores\\textbackslash{}n y sus emprendimientos generan riqueza.'\n",
       "\\end{description*}\n"
      ],
      "text/markdown": [
       "text1\n",
       ":   'Mario es un gran empresario. Creó su propia empresa a partir de un modesto emprendimiento.'text2\n",
       ":   'Las empresas, los emprendedores\\n y sus emprendimientos generan riqueza.'\n",
       "\n"
      ],
      "text/plain": [
       "Corpus consisting of 2 documents.\n",
       "text1 :\n",
       "\"Mario es un gran empresario. Creó su propia empresa a partir...\"\n",
       "\n",
       "text2 :\n",
       "\"Las empresas, los emprendedores  y sus emprendimientos gener...\"\n"
      ]
     },
     "metadata": {},
     "output_type": "display_data"
    }
   ],
   "source": [
    "my_text <- c(\n",
    "\"Mario es un gran empresario. Creó su propia empresa a partir de un modesto emprendimiento.\", \"Las empresas, los emprendedores\n",
    " y sus emprendimientos generan riqueza.\"\n",
    ")\n",
    "\n",
    "my_corpus <- corpus(my_text)\n",
    "my_corpus"
   ]
  },
  {
   "cell_type": "code",
   "execution_count": 3,
   "metadata": {
    "vscode": {
     "languageId": "r"
    }
   },
   "outputs": [
    {
     "name": "stdout",
     "output_type": "stream",
     "text": [
      "Tokens consisting of 2 documents.\n",
      "text1 :\n",
      " [1] \"Mario\"      \"es\"         \"un\"         \"gran\"       \"empresario\"\n",
      " [6] \".\"          \"Creó\"       \"su\"         \"propia\"     \"empresa\"   \n",
      "[11] \"a\"          \"partir\"    \n",
      "[ ... and 5 more ]\n",
      "\n",
      "text2 :\n",
      " [1] \"Las\"             \"empresas\"        \",\"               \"los\"            \n",
      " [5] \"emprendedores\"   \"y\"               \"sus\"             \"emprendimientos\"\n",
      " [9] \"generan\"         \"riqueza\"         \".\"              \n",
      "\n"
     ]
    }
   ],
   "source": [
    "toks <- tokens(my_corpus)\n",
    "print(toks)"
   ]
  },
  {
   "cell_type": "code",
   "execution_count": 4,
   "metadata": {
    "vscode": {
     "languageId": "r"
    }
   },
   "outputs": [
    {
     "name": "stdout",
     "output_type": "stream",
     "text": [
      "Document-feature matrix of: 2 documents, 25 features (48.00% sparse) and 0 docvars.\n",
      "       features\n",
      "docs    mario es un gran empresario . creó su propia empresa\n",
      "  text1     1  1  2    1          1 2    1  1      1       1\n",
      "  text2     0  0  0    0          0 1    0  0      0       0\n",
      "[ reached max_nfeat ... 15 more features ]\n"
     ]
    }
   ],
   "source": [
    "my_first_dfm<- dfm(toks)\n",
    "print(my_first_dfm)"
   ]
  },
  {
   "cell_type": "code",
   "execution_count": 6,
   "metadata": {
    "vscode": {
     "languageId": "r"
    }
   },
   "outputs": [
    {
     "name": "stdout",
     "output_type": "stream",
     "text": [
      "  doc_id mario es un gran empresario . creó su propia empresa a partir de\n",
      "1  text1     1  1  2    1          1 2    1  1      1       1 1      1  1\n",
      "2  text2     0  0  0    0          0 1    0  0      0       0 0      0  0\n",
      "  modesto emprendimiento las empresas , los emprendedores y sus emprendimientos\n",
      "1       1              1   0        0 0   0             0 0   0               0\n",
      "2       0              0   1        1 1   1             1 1   1               1\n",
      "  generan riqueza\n",
      "1       0       0\n",
      "2       1       1\n"
     ]
    },
    {
     "data": {
      "text/html": [
       "<style>\n",
       ".list-inline {list-style: none; margin:0; padding: 0}\n",
       ".list-inline>li {display: inline-block}\n",
       ".list-inline>li:not(:last-child)::after {content: \"\\00b7\"; padding: 0 .5ex}\n",
       "</style>\n",
       "<ol class=list-inline><li>'doc_id'</li><li>'mario'</li><li>'es'</li><li>'un'</li><li>'gran'</li><li>'empresario'</li><li>'.'</li><li>'creó'</li><li>'su'</li><li>'propia'</li><li>'empresa'</li><li>'a'</li><li>'partir'</li><li>'de'</li><li>'modesto'</li><li>'emprendimiento'</li><li>'las'</li><li>'empresas'</li><li>','</li><li>'los'</li><li>'emprendedores'</li><li>'y'</li><li>'sus'</li><li>'emprendimientos'</li><li>'generan'</li><li>'riqueza'</li></ol>\n"
      ],
      "text/latex": [
       "\\begin{enumerate*}\n",
       "\\item 'doc\\_id'\n",
       "\\item 'mario'\n",
       "\\item 'es'\n",
       "\\item 'un'\n",
       "\\item 'gran'\n",
       "\\item 'empresario'\n",
       "\\item '.'\n",
       "\\item 'creó'\n",
       "\\item 'su'\n",
       "\\item 'propia'\n",
       "\\item 'empresa'\n",
       "\\item 'a'\n",
       "\\item 'partir'\n",
       "\\item 'de'\n",
       "\\item 'modesto'\n",
       "\\item 'emprendimiento'\n",
       "\\item 'las'\n",
       "\\item 'empresas'\n",
       "\\item ','\n",
       "\\item 'los'\n",
       "\\item 'emprendedores'\n",
       "\\item 'y'\n",
       "\\item 'sus'\n",
       "\\item 'emprendimientos'\n",
       "\\item 'generan'\n",
       "\\item 'riqueza'\n",
       "\\end{enumerate*}\n"
      ],
      "text/markdown": [
       "1. 'doc_id'\n",
       "2. 'mario'\n",
       "3. 'es'\n",
       "4. 'un'\n",
       "5. 'gran'\n",
       "6. 'empresario'\n",
       "7. '.'\n",
       "8. 'creó'\n",
       "9. 'su'\n",
       "10. 'propia'\n",
       "11. 'empresa'\n",
       "12. 'a'\n",
       "13. 'partir'\n",
       "14. 'de'\n",
       "15. 'modesto'\n",
       "16. 'emprendimiento'\n",
       "17. 'las'\n",
       "18. 'empresas'\n",
       "19. ','\n",
       "20. 'los'\n",
       "21. 'emprendedores'\n",
       "22. 'y'\n",
       "23. 'sus'\n",
       "24. 'emprendimientos'\n",
       "25. 'generan'\n",
       "26. 'riqueza'\n",
       "\n",
       "\n"
      ],
      "text/plain": [
       " [1] \"doc_id\"          \"mario\"           \"es\"              \"un\"             \n",
       " [5] \"gran\"            \"empresario\"      \".\"               \"creó\"           \n",
       " [9] \"su\"              \"propia\"          \"empresa\"         \"a\"              \n",
       "[13] \"partir\"          \"de\"              \"modesto\"         \"emprendimiento\" \n",
       "[17] \"las\"             \"empresas\"        \",\"               \"los\"            \n",
       "[21] \"emprendedores\"   \"y\"               \"sus\"             \"emprendimientos\"\n",
       "[25] \"generan\"         \"riqueza\"        "
      ]
     },
     "metadata": {},
     "output_type": "display_data"
    }
   ],
   "source": [
    "my_firt_matrix <-  convert(my_first_dfm, to = \"data.frame\")\n",
    "print(my_firt_matrix)\n",
    "names(my_firt_matrix)"
   ]
  },
  {
   "cell_type": "markdown",
   "metadata": {
    "id": "r3YHlHS-oBwC"
   },
   "source": [
    "\n",
    "\n",
    "---\n",
    "\n",
    "\n",
    "## Tokenizar el Corpus\n",
    "\n",
    "Para crear un dfm a partir de un corpus, primero hay que tokenizarlo. Para ello, hay que decidir qué pasos de preprocesamiento se van a dar antes de convertir los datos en un dfm."
   ]
  },
  {
   "cell_type": "code",
   "execution_count": 7,
   "metadata": {
    "colab": {
     "base_uri": "https://localhost:8080/",
     "height": 98
    },
    "executionInfo": {
     "elapsed": 364,
     "status": "error",
     "timestamp": 1690300983847,
     "user": {
      "displayName": "Fernando Diaz",
      "userId": "16819680563727310863"
     },
     "user_tz": 240
    },
    "id": "lbfn_4gcoA12",
    "outputId": "6acf6387-84a1-411d-cb4f-81bfddc830d0",
    "vscode": {
     "languageId": "r"
    }
   },
   "outputs": [
    {
     "data": {
      "text/plain": [
       "Tokens consisting of 59 documents and 4 docvars.\n",
       "1789-Washington :\n",
       " [1] \"fellow-citizens\" \"senate\"          \"house\"           \"representatives\"\n",
       " [5] \"among\"           \"vicissitudes\"    \"incident\"        \"life\"           \n",
       " [9] \"event\"           \"filled\"          \"greater\"         \"anxieties\"      \n",
       "[ ... and 640 more ]\n",
       "\n",
       "1793-Washington :\n",
       " [1] \"fellow\"     \"citizens\"   \"called\"     \"upon\"       \"voice\"     \n",
       " [6] \"country\"    \"execute\"    \"functions\"  \"chief\"      \"magistrate\"\n",
       "[11] \"occasion\"   \"proper\"    \n",
       "[ ... and 50 more ]\n",
       "\n",
       "1797-Adams :\n",
       " [1] \"first\"       \"perceived\"   \"early\"       \"times\"       \"middle\"     \n",
       " [6] \"course\"      \"america\"     \"remained\"    \"unlimited\"   \"submission\" \n",
       "[11] \"foreign\"     \"legislature\"\n",
       "[ ... and 1,058 more ]\n",
       "\n",
       "1801-Jefferson :\n",
       " [1] \"friends\"   \"fellow\"    \"citizens\"  \"called\"    \"upon\"      \"undertake\"\n",
       " [7] \"duties\"    \"first\"     \"executive\" \"office\"    \"country\"   \"avail\"    \n",
       "[ ... and 801 more ]\n",
       "\n",
       "1805-Jefferson :\n",
       " [1] \"proceeding\"    \"fellow\"        \"citizens\"      \"qualification\"\n",
       " [5] \"constitution\"  \"requires\"      \"entrance\"      \"charge\"       \n",
       " [9] \"conferred\"     \"duty\"          \"express\"       \"deep\"         \n",
       "[ ... and 999 more ]\n",
       "\n",
       "1809-Madison :\n",
       " [1] \"unwilling\"  \"depart\"     \"examples\"   \"revered\"    \"authority\" \n",
       " [6] \"avail\"      \"occasion\"   \"now\"        \"presented\"  \"express\"   \n",
       "[11] \"profound\"   \"impression\"\n",
       "[ ... and 514 more ]\n",
       "\n",
       "[ reached max_ndoc ... 53 more documents ]"
      ]
     },
     "metadata": {},
     "output_type": "display_data"
    }
   ],
   "source": [
    "toks_nopunct_stop_low <- tokens(data_corpus_inaugural, remove_punct = TRUE) %>%\n",
    "                         tokens_remove(pattern = stopwords(\"en\")) %>%\n",
    "                         tokens_tolower()\n",
    "toks_nopunct_stop_low"
   ]
  },
  {
   "cell_type": "markdown",
   "metadata": {
    "id": "8dJR8ItZofKr"
   },
   "source": [
    "\n",
    "\n",
    "---\n",
    "\n",
    "\n",
    "\n",
    "## Crear una dfm\n",
    "\n"
   ]
  },
  {
   "cell_type": "code",
   "execution_count": 8,
   "metadata": {
    "colab": {
     "base_uri": "https://localhost:8080/",
     "height": 281
    },
    "executionInfo": {
     "elapsed": 223,
     "status": "error",
     "timestamp": 1690300777481,
     "user": {
      "displayName": "Fernando Diaz",
      "userId": "16819680563727310863"
     },
     "user_tz": 240
    },
    "id": "pu14ABqRoe3r",
    "outputId": "f601e8f4-2efd-467e-a18e-0465482410d5",
    "vscode": {
     "languageId": "r"
    }
   },
   "outputs": [
    {
     "name": "stdout",
     "output_type": "stream",
     "text": [
      "Document-feature matrix of: 59 documents, 9,285 features (92.70% sparse) and 4 docvars.\n",
      "                 features\n",
      "docs              fellow-citizens senate house representatives among\n",
      "  1789-Washington               1      1     2               2     1\n",
      "  1793-Washington               0      0     0               0     0\n",
      "  1797-Adams                    3      1     0               2     4\n",
      "  1801-Jefferson                2      0     0               0     1\n",
      "  1805-Jefferson                0      0     0               0     7\n",
      "  1809-Madison                  1      0     0               0     0\n",
      "                 features\n",
      "docs              vicissitudes incident life event filled\n",
      "  1789-Washington            1        1    1     2      1\n",
      "  1793-Washington            0        0    0     0      0\n",
      "  1797-Adams                 0        0    2     0      0\n",
      "  1801-Jefferson             0        0    1     0      0\n",
      "  1805-Jefferson             0        0    2     0      0\n",
      "  1809-Madison               0        0    1     0      1\n",
      "[ reached max_ndoc ... 53 more documents, reached max_nfeat ... 9,275 more features ]\n"
     ]
    }
   ],
   "source": [
    "dfm_inaug_nostem <- dfm(toks_nopunct_stop_low)\n",
    "print(dfm_inaug_nostem)\n"
   ]
  },
  {
   "cell_type": "markdown",
   "metadata": {
    "id": "0fmEcPngpSvL"
   },
   "source": [
    "El dfm consta de 9.285 *features* que comprenden palabras, números y símbolos en este caso concreto. Si no se hubieran eliminado los signos de puntuación, también se habrían incluido.\n",
    "\n",
    "Queda claro que un \"feature\" o \"característica\" se refiere a un término o palabra que se utiliza para representar una columna en la matriz. Las características en un dfm son entonces términos o palabras que se extraen de los documentos del corpus y se utilizan para construir la representación matricial. Estas características pueden incluir palabras individuales, combinaciones de palabras (n-gramas), características léxicas, características sintácticas o cualquier otro elemento que se considere relevante para el análisis de texto.\n",
    "\n",
    "Por ejemplo, en un corpus de documentos relacionados con el análisis de sentimientos en redes sociales, las características en el dfm podrían ser palabras o frases que reflejen emociones como \"feliz\", \"triste\", \"enfurecido\", \"alegre\", etc.\n",
    "\n",
    "¿Qué pasaría con el número de features si hubiésemos hecho stemming en el procesamiento del texto?\n",
    "\n",
    "  "
   ]
  },
  {
   "cell_type": "code",
   "execution_count": 9,
   "metadata": {
    "colab": {
     "base_uri": "https://localhost:8080/"
    },
    "executionInfo": {
     "elapsed": 322,
     "status": "ok",
     "timestamp": 1689176325757,
     "user": {
      "displayName": "Fernando Diaz",
      "userId": "16819680563727310863"
     },
     "user_tz": 240
    },
    "id": "WCkSkYgfq1yC",
    "outputId": "fe2d3671-6a95-4e77-b3e0-a46c7661d7b4",
    "vscode": {
     "languageId": "r"
    }
   },
   "outputs": [
    {
     "name": "stdout",
     "output_type": "stream",
     "text": [
      "Document-feature matrix of: 59 documents, 5,458 features (89.34% sparse) and 4 docvars.\n",
      "                 features\n",
      "docs              fellow-citizen senat hous repres among vicissitud incid life\n",
      "  1789-Washington              1     1    2      2     1          1     1    1\n",
      "  1793-Washington              0     0    0      0     0          0     0    0\n",
      "  1797-Adams                   3     1    3      3     4          0     0    2\n",
      "  1801-Jefferson               2     0    0      1     1          0     0    1\n",
      "  1805-Jefferson               0     0    0      0     7          0     0    2\n",
      "  1809-Madison                 1     0    0      1     0          1     0    1\n",
      "                 features\n",
      "docs              event fill\n",
      "  1789-Washington     2    1\n",
      "  1793-Washington     0    0\n",
      "  1797-Adams          0    0\n",
      "  1801-Jefferson      0    0\n",
      "  1805-Jefferson      1    0\n",
      "  1809-Madison        0    1\n",
      "[ reached max_ndoc ... 53 more documents, reached max_nfeat ... 5,448 more features ]\n"
     ]
    }
   ],
   "source": [
    "toks_nopunct_stop_low_stem <- tokens_wordstem(toks_nopunct_stop_low)\n",
    "dfm_inaug_stem <- dfm(toks_nopunct_stop_low_stem)\n",
    "print(dfm_inaug_stem)"
   ]
  },
  {
   "cell_type": "markdown",
   "metadata": {
    "id": "5ygfQKNhr4lC"
   },
   "source": [
    "\n",
    "\n",
    "\n",
    "---\n",
    "\n",
    "\n",
    "## Sparsity\n",
    "\n",
    "Document-feature matrix of: 59 documents, 9,285 features (92.70% sparse) and 4 docvars.\n",
    "\n",
    "**Sparsity**, en el contexto más general, se refiere a la propiedad de tener una gran cantidad de elementos o valores nulos o ceros en relación con el total de elementos posibles.\n",
    "\n",
    "La sparsity indica la falta de densidad o la falta de presencia significativa de elementos en una estructura de datos o matriz. Por ejemplo, si se tiene una matriz de números donde la mayoría de los elementos son cero y solo unos pocos tienen valores diferentes de cero, se puede decir que la matriz es \"sparse\" o dispersa."
   ]
  },
  {
   "cell_type": "markdown",
   "metadata": {
    "id": "m-XBV6RUstum"
   },
   "source": [
    "\n",
    "\n",
    "---\n",
    "\n",
    "\n",
    "# II. Seleccionado **features** o Características\n",
    "\n",
    "Existen varias funciones que se pueden utilizar para seleccionar y explorar *features* tras convertir documentos textuales a un dfm."
   ]
  },
  {
   "cell_type": "markdown",
   "metadata": {
    "id": "Dpd1EFxrt-nk"
   },
   "source": [
    "## **topfeatures()**\n",
    "\n",
    "La función **topfeatures()** permite consultar las características más frecuentes.\n"
   ]
  },
  {
   "cell_type": "code",
   "execution_count": 10,
   "metadata": {
    "colab": {
     "base_uri": "https://localhost:8080/"
    },
    "executionInfo": {
     "elapsed": 23,
     "status": "ok",
     "timestamp": 1689176325758,
     "user": {
      "displayName": "Fernando Diaz",
      "userId": "16819680563727310863"
     },
     "user_tz": 240
    },
    "id": "Fo6bLjDSub4F",
    "outputId": "304ba10e-c021-4885-e8f8-8f679dc15d8a",
    "vscode": {
     "languageId": "r"
    }
   },
   "outputs": [
    {
     "name": "stdout",
     "output_type": "stream",
     "text": [
      "    people government         us        can       must       upon      great \n",
      "       584        564        505        487        376        371        344 \n",
      "       may     states      world \n",
      "       343        334        319 \n"
     ]
    }
   ],
   "source": [
    "print(topfeatures(dfm_inaug_nostem))"
   ]
  },
  {
   "cell_type": "code",
   "execution_count": 11,
   "metadata": {
    "colab": {
     "base_uri": "https://localhost:8080/"
    },
    "executionInfo": {
     "elapsed": 17,
     "status": "ok",
     "timestamp": 1689176325758,
     "user": {
      "displayName": "Fernando Diaz",
      "userId": "16819680563727310863"
     },
     "user_tz": 240
    },
    "id": "Uqi18VIJvhuU",
    "outputId": "e2e8b929-6451-4510-eb67-eac7e63b5d9c",
    "vscode": {
     "languageId": "r"
    }
   },
   "outputs": [
    {
     "name": "stdout",
     "output_type": "stream",
     "text": [
      "nation govern  peopl     us    can  state  great   must  power   upon \n",
      "   691    657    632    505    487    452    378    376    375    371 \n"
     ]
    }
   ],
   "source": [
    "print(topfeatures(dfm_inaug_stem))"
   ]
  },
  {
   "cell_type": "markdown",
   "metadata": {
    "id": "btYEIcIWvpPe"
   },
   "source": [
    "¿Que diferencias se notan entre las *topfeatures* de un documento stemmed y el documento not-stemmed?\n"
   ]
  },
  {
   "cell_type": "markdown",
   "metadata": {
    "id": "jJ_HLwiRwgJt"
   },
   "source": [
    "Por ejemplo, antes del stemming, \"nation\" ni siquiera aparecía entre las 10 primeras características, lo que ilustra cómo el stemming permite captar el uso de palabras similares de forma diferente."
   ]
  },
  {
   "cell_type": "code",
   "execution_count": 12,
   "metadata": {
    "colab": {
     "base_uri": "https://localhost:8080/"
    },
    "executionInfo": {
     "elapsed": 12,
     "status": "ok",
     "timestamp": 1689176325758,
     "user": {
      "displayName": "Fernando Diaz",
      "userId": "16819680563727310863"
     },
     "user_tz": 240
    },
    "id": "5JzelcUCwnzu",
    "outputId": "868a44e7-4923-4034-d6f4-0d11ff2a7376",
    "vscode": {
     "languageId": "r"
    }
   },
   "outputs": [
    {
     "name": "stdout",
     "output_type": "stream",
     "text": [
      "    people government         us        can       must       upon      great \n",
      "       584        564        505        487        376        371        344 \n",
      "       may     states      world      shall    country     nation      every \n",
      "       343        334        319        316        308        305        300 \n",
      "       one      peace        new      power        now     public \n",
      "       267        258        250        241        229        225 \n"
     ]
    }
   ],
   "source": [
    "print(topfeatures(dfm_inaug_nostem,20))"
   ]
  },
  {
   "cell_type": "markdown",
   "metadata": {
    "id": "mSCLR4OVwzdV"
   },
   "source": [
    "¿Por qué pasa esto? ¿Se le ocurre como investigarlo?"
   ]
  },
  {
   "cell_type": "code",
   "execution_count": 14,
   "metadata": {
    "colab": {
     "base_uri": "https://localhost:8080/"
    },
    "executionInfo": {
     "elapsed": 9,
     "status": "ok",
     "timestamp": 1689176325758,
     "user": {
      "displayName": "Fernando Diaz",
      "userId": "16819680563727310863"
     },
     "user_tz": 240
    },
    "id": "jZ2YsfkRxYBI",
    "outputId": "b2a0337d-e550-460f-dfb8-7f56271a7431",
    "vscode": {
     "languageId": "r"
    }
   },
   "outputs": [
    {
     "name": "stdout",
     "output_type": "stream",
     "text": [
      "Keyword-in-context with 10 matches.                                                                             \n",
      " [1789-Washington, 159]           almighty rules universe presides councils |\n",
      " [1789-Washington, 225]           every step advanced character independent |\n",
      " [1789-Washington, 361] assemblage communities interests another foundation |\n",
      " [1789-Washington, 423]                    smiles heaven can never expected |\n",
      "       [1797-Adams, 56]    signally protected country first representatives |\n",
      "      [1797-Adams, 169]             faith loss consideration credit foreign |\n",
      "      [1797-Adams, 179]  partial conventions insurrection threatening great |\n",
      "      [1797-Adams, 262]        adapted genius character situation relations |\n",
      "      [1797-Adams, 360]               upon peace order prosperity happiness |\n",
      "      [1797-Adams, 381]               ancient idea congregations men cities |\n",
      "                                                               \n",
      " nations  | whose providential aids can supply                 \n",
      "  nation  | seems distinguished token providential agency      \n",
      " national | policy laid pure immutable principles              \n",
      "  nation  | disregards eternal rules order right               \n",
      "  nation  | consisting little half present number              \n",
      " nations  | length discontents animosities combinations partial\n",
      " national | calamity dangerous crisis people america           \n",
      "  nation  | country ever proposed suggested general            \n",
      "  nation  | acquired habitual attachment veneration form       \n",
      " nations  | pleasing objects sight superior intelligences      \n",
      "\n"
     ]
    }
   ],
   "source": [
    "# Key words in context\n",
    "kw_nation <- kwic(toks_nopunct_stop_low, pattern = \"nation*\")\n",
    "print(head(kw_nation, 10))"
   ]
  },
  {
   "cell_type": "code",
   "execution_count": 15,
   "metadata": {
    "id": "DX4pr4kGxyUr",
    "vscode": {
     "languageId": "r"
    }
   },
   "outputs": [
    {
     "name": "stdout",
     "output_type": "stream",
     "text": [
      "topfeatures              package:quanteda              R Documentation\n",
      "\n",
      "_\bI_\bd_\be_\bn_\bt_\bi_\bf_\by _\bt_\bh_\be _\bm_\bo_\bs_\bt _\bf_\br_\be_\bq_\bu_\be_\bn_\bt _\bf_\be_\ba_\bt_\bu_\br_\be_\bs _\bi_\bn _\ba _\bd_\bf_\bm\n",
      "\n",
      "_\bD_\be_\bs_\bc_\br_\bi_\bp_\bt_\bi_\bo_\bn:\n",
      "\n",
      "     List the most (or least) frequently occurring features in a dfm,\n",
      "     either as a whole or separated by document.\n",
      "\n",
      "_\bU_\bs_\ba_\bg_\be:\n",
      "\n",
      "     topfeatures(\n",
      "       x,\n",
      "       n = 10,\n",
      "       decreasing = TRUE,\n",
      "       scheme = c(\"count\", \"docfreq\"),\n",
      "       groups = NULL\n",
      "     )\n",
      "     \n",
      "_\bA_\br_\bg_\bu_\bm_\be_\bn_\bt_\bs:\n",
      "\n",
      "       x: the object whose features will be returned\n",
      "\n",
      "       n: how many top features should be returned\n",
      "\n",
      "decreasing: If 'TRUE', return the 'n' most frequent features; otherwise\n",
      "          return the 'n' least frequent features\n",
      "\n",
      "  scheme: one of 'count' for total feature frequency (within 'group' if\n",
      "          applicable), or 'docfreq' for the document frequencies of\n",
      "          features\n",
      "\n",
      "  groups: grouping variable for sampling, equal in length to the number\n",
      "          of documents. This will be evaluated in the docvars\n",
      "          data.frame, so that docvars may be referred to by name\n",
      "          without quoting. This also changes previous behaviours for\n",
      "          'groups'. See 'news(Version >= \"3.0\", package = \"quanteda\")'\n",
      "          for details.\n",
      "\n",
      "_\bV_\ba_\bl_\bu_\be:\n",
      "\n",
      "     A named numeric vector of feature counts, where the names are the\n",
      "     feature labels, or a list of these if 'groups' is given.\n",
      "\n",
      "_\bE_\bx_\ba_\bm_\bp_\bl_\be_\bs:\n",
      "\n",
      "     dfmat1 <- corpus_subset(data_corpus_inaugural, Year > 1980) %>%\n",
      "         tokens(remove_punct = TRUE) %>%\n",
      "         dfm()\n",
      "     dfmat2 <- dfm_remove(dfmat1, stopwords(\"en\"))\n",
      "     \n",
      "     # most frequent features\n",
      "     topfeatures(dfmat1)\n",
      "     topfeatures(dfmat2)\n",
      "     \n",
      "     # least frequent features\n",
      "     topfeatures(dfmat2, decreasing = FALSE)\n",
      "     \n",
      "     # top features of individual documents\n",
      "     topfeatures(dfmat2, n = 5, groups = docnames(dfmat2))\n",
      "     \n",
      "     # grouping by president last name\n",
      "     topfeatures(dfmat2, n = 5, groups = President)\n",
      "     \n",
      "     # features by document frequencies\n",
      "     tail(topfeatures(dfmat1, scheme = \"docfreq\", n = 200))\n",
      "     "
     ]
    }
   ],
   "source": [
    "?topfeatures"
   ]
  },
  {
   "cell_type": "markdown",
   "metadata": {
    "id": "zOv7QD1AyEMx"
   },
   "source": [
    "\n",
    "\n",
    "\n",
    "\n",
    "\n",
    "\n",
    "### Agrupando por alguna variable"
   ]
  },
  {
   "cell_type": "code",
   "execution_count": 14,
   "metadata": {
    "colab": {
     "base_uri": "https://localhost:8080/",
     "height": 286
    },
    "executionInfo": {
     "elapsed": 43,
     "status": "ok",
     "timestamp": 1689176326058,
     "user": {
      "displayName": "Fernando Diaz",
      "userId": "16819680563727310863"
     },
     "user_tz": 240
    },
    "id": "PGvaWpcrymdc",
    "outputId": "9f920891-a857-4723-809c-6e0bc2ade688",
    "vscode": {
     "languageId": "r"
    }
   },
   "outputs": [
    {
     "data": {
      "text/html": [
       "<table class=\"dataframe\">\n",
       "<caption>A data.frame: 6 × 4</caption>\n",
       "<thead>\n",
       "\t<tr><th></th><th scope=col>Year</th><th scope=col>President</th><th scope=col>FirstName</th><th scope=col>Party</th></tr>\n",
       "\t<tr><th></th><th scope=col>&lt;int&gt;</th><th scope=col>&lt;chr&gt;</th><th scope=col>&lt;chr&gt;</th><th scope=col>&lt;fct&gt;</th></tr>\n",
       "</thead>\n",
       "<tbody>\n",
       "\t<tr><th scope=row>1</th><td>1789</td><td>Washington</td><td>George</td><td>none                 </td></tr>\n",
       "\t<tr><th scope=row>2</th><td>1793</td><td>Washington</td><td>George</td><td>none                 </td></tr>\n",
       "\t<tr><th scope=row>3</th><td>1797</td><td>Adams     </td><td>John  </td><td>Federalist           </td></tr>\n",
       "\t<tr><th scope=row>4</th><td>1801</td><td>Jefferson </td><td>Thomas</td><td>Democratic-Republican</td></tr>\n",
       "\t<tr><th scope=row>5</th><td>1805</td><td>Jefferson </td><td>Thomas</td><td>Democratic-Republican</td></tr>\n",
       "\t<tr><th scope=row>6</th><td>1809</td><td>Madison   </td><td>James </td><td>Democratic-Republican</td></tr>\n",
       "</tbody>\n",
       "</table>\n"
      ],
      "text/latex": [
       "A data.frame: 6 × 4\n",
       "\\begin{tabular}{r|llll}\n",
       "  & Year & President & FirstName & Party\\\\\n",
       "  & <int> & <chr> & <chr> & <fct>\\\\\n",
       "\\hline\n",
       "\t1 & 1789 & Washington & George & none                 \\\\\n",
       "\t2 & 1793 & Washington & George & none                 \\\\\n",
       "\t3 & 1797 & Adams      & John   & Federalist           \\\\\n",
       "\t4 & 1801 & Jefferson  & Thomas & Democratic-Republican\\\\\n",
       "\t5 & 1805 & Jefferson  & Thomas & Democratic-Republican\\\\\n",
       "\t6 & 1809 & Madison    & James  & Democratic-Republican\\\\\n",
       "\\end{tabular}\n"
      ],
      "text/markdown": [
       "\n",
       "A data.frame: 6 × 4\n",
       "\n",
       "| <!--/--> | Year &lt;int&gt; | President &lt;chr&gt; | FirstName &lt;chr&gt; | Party &lt;fct&gt; |\n",
       "|---|---|---|---|---|\n",
       "| 1 | 1789 | Washington | George | none                  |\n",
       "| 2 | 1793 | Washington | George | none                  |\n",
       "| 3 | 1797 | Adams      | John   | Federalist            |\n",
       "| 4 | 1801 | Jefferson  | Thomas | Democratic-Republican |\n",
       "| 5 | 1805 | Jefferson  | Thomas | Democratic-Republican |\n",
       "| 6 | 1809 | Madison    | James  | Democratic-Republican |\n",
       "\n"
      ],
      "text/plain": [
       "  Year President  FirstName Party                \n",
       "1 1789 Washington George    none                 \n",
       "2 1793 Washington George    none                 \n",
       "3 1797 Adams      John      Federalist           \n",
       "4 1801 Jefferson  Thomas    Democratic-Republican\n",
       "5 1805 Jefferson  Thomas    Democratic-Republican\n",
       "6 1809 Madison    James     Democratic-Republican"
      ]
     },
     "metadata": {},
     "output_type": "display_data"
    }
   ],
   "source": [
    "head(docvars(data_corpus_inaugural))"
   ]
  },
  {
   "cell_type": "code",
   "execution_count": 16,
   "metadata": {
    "colab": {
     "base_uri": "https://localhost:8080/"
    },
    "executionInfo": {
     "elapsed": 313,
     "status": "ok",
     "timestamp": 1689176326336,
     "user": {
      "displayName": "Fernando Diaz",
      "userId": "16819680563727310863"
     },
     "user_tz": 240
    },
    "id": "i0hfW2xJzAHf",
    "outputId": "168c5280-3549-4e7e-e4d5-72db4762f720",
    "vscode": {
     "languageId": "r"
    }
   },
   "outputs": [
    {
     "name": "stdout",
     "output_type": "stream",
     "text": [
      "$Adams\n",
      "government     people      union       upon    country \n",
      "        33         27         22         21         18 \n",
      "\n",
      "$Biden\n",
      "     us america     can     one  nation \n",
      "     27      18      16      15      12 \n",
      "\n",
      "$Buchanan\n",
      "      states        shall constitution          may       people \n",
      "          22           18           17           15           13 \n",
      "\n",
      "$Bush\n",
      "freedom  nation      us america     can \n",
      "     36      27      27      27      24 \n",
      "\n",
      "$Carter\n",
      "   can nation    new   must     us \n",
      "    13     10      9      8      8 \n",
      "\n",
      "$Cleveland\n",
      "    people government     public      every      shall \n",
      "        35         29         19         14         14 \n",
      "\n"
     ]
    }
   ],
   "source": [
    "print(head(topfeatures(dfm_inaug_nostem,5, groups = President)))"
   ]
  },
  {
   "cell_type": "code",
   "execution_count": 17,
   "metadata": {
    "colab": {
     "base_uri": "https://localhost:8080/"
    },
    "executionInfo": {
     "elapsed": 319,
     "status": "ok",
     "timestamp": 1689176326643,
     "user": {
      "displayName": "Fernando Diaz",
      "userId": "16819680563727310863"
     },
     "user_tz": 240
    },
    "id": "0dAkgUk1z4QC",
    "outputId": "f84e2127-427d-4026-fdfb-e08ba98891b8",
    "vscode": {
     "languageId": "r"
    }
   },
   "outputs": [
    {
     "name": "stdout",
     "output_type": "stream",
     "text": [
      "$Democratic\n",
      "        us     people        can government       must \n",
      "       222        199        173        143        138 \n",
      "\n",
      "$`Democratic-Republican`\n",
      "government      great     states        war        may \n",
      "        68         61         56         51         49 \n",
      "\n",
      "$Federalist\n",
      "    people government        may    nations    country \n",
      "        20         16         13         11          9 \n",
      "\n",
      "$none\n",
      "       can      every government        may    present \n",
      "         9          9          9          7          6 \n",
      "\n",
      "$Republican\n",
      "    people government        can         us       must \n",
      "       264        240        228        218        201 \n",
      "\n",
      "$Whig\n",
      "  government       states       people        power constitution \n",
      "          88           61           57           57           55 \n",
      "\n"
     ]
    }
   ],
   "source": [
    "print(head(topfeatures(dfm_inaug_nostem,5, groups = Party)))"
   ]
  },
  {
   "cell_type": "markdown",
   "metadata": {
    "id": "DJhjYsw_0Vwk"
   },
   "source": [
    "**scheme=count** & **scheme=docfreq**"
   ]
  },
  {
   "cell_type": "code",
   "execution_count": 18,
   "metadata": {
    "colab": {
     "base_uri": "https://localhost:8080/"
    },
    "executionInfo": {
     "elapsed": 24,
     "status": "ok",
     "timestamp": 1689176326644,
     "user": {
      "displayName": "Fernando Diaz",
      "userId": "16819680563727310863"
     },
     "user_tz": 240
    },
    "id": "-O00p8WY0W4s",
    "outputId": "e2b0f29a-7563-4f49-e77e-239c82cfe853",
    "vscode": {
     "languageId": "r"
    }
   },
   "outputs": [
    {
     "name": "stdout",
     "output_type": "stream",
     "text": [
      "    people government         us        can       must \n",
      "       584        564        505        487        376 \n"
     ]
    }
   ],
   "source": [
    "print(topfeatures(dfm_inaug_nostem,5, scheme = \"count\"))\n"
   ]
  },
  {
   "cell_type": "code",
   "execution_count": 19,
   "metadata": {
    "colab": {
     "base_uri": "https://localhost:8080/"
    },
    "executionInfo": {
     "elapsed": 21,
     "status": "ok",
     "timestamp": 1689176326645,
     "user": {
      "displayName": "Fernando Diaz",
      "userId": "16819680563727310863"
     },
     "user_tz": 240
    },
    "id": "CmSnWkna1lFT",
    "outputId": "fd166003-12ae-4967-bb76-0dad69583410",
    "vscode": {
     "languageId": "r"
    }
   },
   "outputs": [
    {
     "name": "stdout",
     "output_type": "stream",
     "text": [
      " people     can   great      us country \n",
      "     57      56      56      56      54 \n"
     ]
    }
   ],
   "source": [
    "print(topfeatures(dfm_inaug_nostem,5, scheme = \"docfreq\"))"
   ]
  },
  {
   "cell_type": "markdown",
   "metadata": {
    "id": "zBmZlFvO2hbU"
   },
   "source": [
    "Esto significa que \"*poeple*\" aparece 584 veces en 57 de los 59 documentos totales del corpus."
   ]
  },
  {
   "cell_type": "markdown",
   "metadata": {
    "id": "v4E225Do38Hm"
   },
   "source": [
    "\n",
    "\n",
    "---\n",
    "\n",
    "\n",
    "## **dfm_select()**, **dfm_remove()**, **dfm_trim()**, **dfm_select()**,\n",
    "\n",
    "A través de estos comandos se pueden seleccionar características específicas de un objeto dfm."
   ]
  },
  {
   "cell_type": "code",
   "execution_count": 19,
   "metadata": {
    "id": "4MWCIwOazwAx",
    "vscode": {
     "languageId": "r"
    }
   },
   "outputs": [
    {
     "name": "stdout",
     "output_type": "stream",
     "text": [
      "dfm_select              package:quanteda               R Documentation\n",
      "\n",
      "_\bS_\be_\bl_\be_\bc_\bt _\bf_\be_\ba_\bt_\bu_\br_\be_\bs _\bf_\br_\bo_\bm _\ba _\bd_\bf_\bm _\bo_\br _\bf_\bc_\bm\n",
      "\n",
      "_\bD_\be_\bs_\bc_\br_\bi_\bp_\bt_\bi_\bo_\bn:\n",
      "\n",
      "     This function selects or removes features from a dfm or fcm, based\n",
      "     on feature name matches with 'pattern'.  The most common usages\n",
      "     are to eliminate features from a dfm already constructed, such as\n",
      "     stopwords, or to select only terms of interest from a dictionary.\n",
      "\n",
      "_\bU_\bs_\ba_\bg_\be:\n",
      "\n",
      "     dfm_select(\n",
      "       x,\n",
      "       pattern = NULL,\n",
      "       selection = c(\"keep\", \"remove\"),\n",
      "       valuetype = c(\"glob\", \"regex\", \"fixed\"),\n",
      "       case_insensitive = TRUE,\n",
      "       min_nchar = NULL,\n",
      "       max_nchar = NULL,\n",
      "       padding = FALSE,\n",
      "       verbose = quanteda_options(\"verbose\")\n",
      "     )\n",
      "     \n",
      "     dfm_remove(x, ...)\n",
      "     \n",
      "     dfm_keep(x, ...)\n",
      "     \n",
      "     fcm_select(\n",
      "       x,\n",
      "       pattern = NULL,\n",
      "       selection = c(\"keep\", \"remove\"),\n",
      "       valuetype = c(\"glob\", \"regex\", \"fixed\"),\n",
      "       case_insensitive = TRUE,\n",
      "       verbose = quanteda_options(\"verbose\"),\n",
      "       ...\n",
      "     )\n",
      "     \n",
      "     fcm_remove(x, ...)\n",
      "     \n",
      "     fcm_keep(x, ...)\n",
      "     \n",
      "_\bA_\br_\bg_\bu_\bm_\be_\bn_\bt_\bs:\n",
      "\n",
      "       x: the dfm or fcm object whose features will be selected\n",
      "\n",
      " pattern: a character vector, list of character vectors, dictionary, or\n",
      "          collocations object.  See pattern for details.\n",
      "\n",
      "selection: whether to 'keep' or 'remove' the features\n",
      "\n",
      "valuetype: the type of pattern matching: '\"glob\"' for \"glob\"-style\n",
      "          wildcard expressions; '\"regex\"' for regular expressions; or\n",
      "          '\"fixed\"' for exact matching. See valuetype for details.\n",
      "\n",
      "case_insensitive: logical; if 'TRUE', ignore case when matching a\n",
      "          'pattern' or dictionary values\n",
      "\n",
      "min_nchar, max_nchar: optional numerics specifying the minimum and\n",
      "          maximum length in characters for tokens to be removed or\n",
      "          kept; defaults are 'NULL' for no limits.  These are applied\n",
      "          after (and hence, in addition to) any selection based on\n",
      "          pattern matches.\n",
      "\n",
      " padding: if 'TRUE', record the number of removed tokens in the first\n",
      "          column.\n",
      "\n",
      " verbose: if 'TRUE', print message about how many pattern were removed\n",
      "\n",
      "     ...: used only for passing arguments from 'dfm_remove' or\n",
      "          'dfm_keep' to 'dfm_select'. Cannot include 'selection'.\n",
      "\n",
      "_\bD_\be_\bt_\ba_\bi_\bl_\bs:\n",
      "\n",
      "     'dfm_remove' and 'fcm_remove' are simply a convenience wrappers to\n",
      "     calling 'dfm_select' and 'fcm_select' with 'selection = \"remove\"'.\n",
      "\n",
      "     'dfm_keep' and 'fcm_keep' are simply a convenience wrappers to\n",
      "     calling 'dfm_select' and 'fcm_select' with 'selection = \"keep\"'.\n",
      "\n",
      "_\bV_\ba_\bl_\bu_\be:\n",
      "\n",
      "     A dfm or fcm object, after the feature selection has been applied.\n",
      "\n",
      "     For compatibility with earlier versions, when 'pattern' is a dfm\n",
      "     object and 'selection = \"keep\"', then this will be equivalent to\n",
      "     calling 'dfm_match()'.  In this case, the following settings are\n",
      "     always used: 'case_insensitive = FALSE', and 'valuetype =\n",
      "     \"fixed\"'.  This functionality is deprecated, however, and you\n",
      "     should use 'dfm_match()' instead.\n",
      "\n",
      "_\bN_\bo_\bt_\be:\n",
      "\n",
      "     This function selects features based on their labels.  To select\n",
      "     features based on the values of the document-feature matrix, use\n",
      "     'dfm_trim()'.\n",
      "\n",
      "_\bS_\be_\be _\bA_\bl_\bs_\bo:\n",
      "\n",
      "     'dfm_match()'\n",
      "\n",
      "_\bE_\bx_\ba_\bm_\bp_\bl_\be_\bs:\n",
      "\n",
      "     dfmat <- tokens(c(\"My Christmas was ruined by your opposition tax plan.\",\n",
      "                    \"Does the United_States or Sweden have more progressive taxation?\")) %>%\n",
      "         dfm(tolower = FALSE)\n",
      "     dict <- dictionary(list(countries = c(\"United_States\", \"Sweden\", \"France\"),\n",
      "                             wordsEndingInY = c(\"by\", \"my\"),\n",
      "                             notintext = \"blahblah\"))\n",
      "     dfm_select(dfmat, pattern = dict)\n",
      "     dfm_select(dfmat, pattern = dict, case_insensitive = FALSE)\n",
      "     dfm_select(dfmat, pattern = c(\"s$\", \".y\"), selection = \"keep\", valuetype = \"regex\")\n",
      "     dfm_select(dfmat, pattern = c(\"s$\", \".y\"), selection = \"remove\", valuetype = \"regex\")\n",
      "     dfm_select(dfmat, pattern = stopwords(\"english\"), selection = \"keep\", valuetype = \"fixed\")\n",
      "     dfm_select(dfmat, pattern = stopwords(\"english\"), selection = \"remove\", valuetype = \"fixed\")\n",
      "     \n",
      "     # select based on character length\n",
      "     dfm_select(dfmat, min_nchar = 5)\n",
      "     \n",
      "     dfmat <- dfm(tokens(c(\"This is a document with lots of stopwords.\",\n",
      "                           \"No if, and, or but about it: lots of stopwords.\")))\n",
      "     dfmat\n",
      "     dfm_remove(dfmat, stopwords(\"english\"))\n",
      "     toks <- tokens(c(\"this contains lots of stopwords\",\n",
      "                      \"no if, and, or but about it: lots\"),\n",
      "                    remove_punct = TRUE)\n",
      "     fcmat <- fcm(toks)\n",
      "     fcmat\n",
      "     fcm_remove(fcmat, stopwords(\"english\"))\n",
      "     "
     ]
    }
   ],
   "source": [
    "?dfm_select()"
   ]
  },
  {
   "cell_type": "markdown",
   "metadata": {
    "id": "cY-37OhVy46i"
   },
   "source": [
    "### **dfm_remove()**\n",
    "\n",
    "Supongamos que no eliminamos los stop-words cuando tokenizamos el documento."
   ]
  },
  {
   "cell_type": "code",
   "execution_count": 20,
   "metadata": {
    "id": "gI568-6h37hs",
    "vscode": {
     "languageId": "r"
    }
   },
   "outputs": [],
   "source": [
    "toks <- tokens(data_corpus_inaugural)\n"
   ]
  },
  {
   "cell_type": "code",
   "execution_count": 21,
   "metadata": {
    "colab": {
     "base_uri": "https://localhost:8080/"
    },
    "executionInfo": {
     "elapsed": 526,
     "status": "ok",
     "timestamp": 1689177552305,
     "user": {
      "displayName": "Fernando Diaz",
      "userId": "16819680563727310863"
     },
     "user_tz": 240
    },
    "id": "sZZIUrlK0Uyh",
    "outputId": "2f78c22c-d5c3-4030-858d-59b10d512cac",
    "vscode": {
     "languageId": "r"
    }
   },
   "outputs": [
    {
     "name": "stdout",
     "output_type": "stream",
     "text": [
      "Document-feature matrix of: 59 documents, 9,303 features (92.65% sparse) and 4 docvars.\n",
      "                 features\n",
      "docs              fellow-citizens senate house representatives : among\n",
      "  1789-Washington               1      1     2               2 1     1\n",
      "  1793-Washington               0      0     0               0 1     0\n",
      "  1797-Adams                    3      1     0               2 0     4\n",
      "  1801-Jefferson                2      0     0               0 1     1\n",
      "  1805-Jefferson                0      0     0               0 0     7\n",
      "  1809-Madison                  1      0     0               0 0     0\n",
      "                 features\n",
      "docs              vicissitudes incident life event\n",
      "  1789-Washington            1        1    1     2\n",
      "  1793-Washington            0        0    0     0\n",
      "  1797-Adams                 0        0    2     0\n",
      "  1801-Jefferson             0        0    1     0\n",
      "  1805-Jefferson             0        0    2     0\n",
      "  1809-Madison               0        0    1     0\n",
      "[ reached max_ndoc ... 53 more documents, reached max_nfeat ... 9,293 more features ]\n"
     ]
    }
   ],
   "source": [
    "dfm_inaugural_nostop <- dfm(tokens(data_corpus_inaugural)) %>%\n",
    "             dfm_remove(pattern = stopwords(\"en\"))\n",
    "\n",
    "print(dfm_inaugural_nostop)"
   ]
  },
  {
   "cell_type": "markdown",
   "metadata": {
    "id": "LcSaAso42Cnq"
   },
   "source": [
    "### **dfm_trim()**\n",
    "\n",
    "Los argumentos de esta función *min_termfreq* y *max_termfreq* permiten determinar el umbral de frecuencia para el análisis."
   ]
  },
  {
   "cell_type": "code",
   "execution_count": 22,
   "metadata": {
    "colab": {
     "base_uri": "https://localhost:8080/",
     "height": 194
    },
    "executionInfo": {
     "elapsed": 377,
     "status": "ok",
     "timestamp": 1689178058180,
     "user": {
      "displayName": "Fernando Diaz",
      "userId": "16819680563727310863"
     },
     "user_tz": 240
    },
    "id": "rlrOypkj2fri",
    "outputId": "2d60367d-528d-4c01-8954-b93e7df8bf59",
    "vscode": {
     "languageId": "r"
    }
   },
   "outputs": [
    {
     "data": {
      "text/plain": [
       "Document-feature matrix of: 59 documents, 661 features (59.48% sparse) and 4 docvars.\n",
       "                 features\n",
       "docs              fellow-citizens : among life greater order   , day present  .\n",
       "  1789-Washington               1 1     1    1       1     2  70   2       5 23\n",
       "  1793-Washington               0 1     0    0       0     0   5   0       1  4\n",
       "  1797-Adams                    3 0     4    2       0     4 201   1       2 33\n",
       "  1801-Jefferson                2 1     1    1       1     1 128   1       0 37\n",
       "  1805-Jefferson                0 0     7    2       0     3 142   1       3 41\n",
       "  1809-Madison                  1 0     0    1       0     0  47   0       1 21\n",
       "[ reached max_ndoc ... 53 more documents, reached max_nfeat ... 651 more features ]"
      ]
     },
     "metadata": {},
     "output_type": "display_data"
    }
   ],
   "source": [
    "dfm_trim(dfm_inaugural_nostop , min_termfreq = 20)\n"
   ]
  },
  {
   "cell_type": "markdown",
   "metadata": {
    "id": "RBEDAlJS1FsS"
   },
   "source": [
    "### **dfm_select()**\n",
    "\n",
    "¿Cuántas palabras \"largas\" hay en los documentos del corpus?\n"
   ]
  },
  {
   "cell_type": "code",
   "execution_count": 23,
   "metadata": {
    "colab": {
     "base_uri": "https://localhost:8080/"
    },
    "executionInfo": {
     "elapsed": 271,
     "status": "ok",
     "timestamp": 1689178252252,
     "user": {
      "displayName": "Fernando Diaz",
      "userId": "16819680563727310863"
     },
     "user_tz": 240
    },
    "id": "ed-n48OG1TXb",
    "outputId": "eeaea9d3-51bb-4065-fbbf-75e8d47b761a",
    "vscode": {
     "languageId": "r"
    }
   },
   "outputs": [
    {
     "name": "stdout",
     "output_type": "stream",
     "text": [
      "Document-feature matrix of: 59 documents, 2,442 features (95.05% sparse) and 4 docvars.\n",
      "                 features\n",
      "docs              fellow-citizens representatives vicissitudes notification\n",
      "  1789-Washington               1               2            1            1\n",
      "  1793-Washington               0               0            0            0\n",
      "  1797-Adams                    3               2            0            0\n",
      "  1801-Jefferson                2               0            0            0\n",
      "  1805-Jefferson                0               0            0            0\n",
      "  1809-Madison                  1               0            0            0\n",
      "                 features\n",
      "docs              transmitted veneration predilection flattering inclination\n",
      "  1789-Washington           1          1            1          1           1\n",
      "  1793-Washington           0          0            0          0           0\n",
      "  1797-Adams                0          2            0          0           1\n",
      "  1801-Jefferson            0          0            0          0           0\n",
      "  1805-Jefferson            0          0            0          0           0\n",
      "  1809-Madison              0          0            0          0           0\n",
      "                 features\n",
      "docs              interruptions\n",
      "  1789-Washington             1\n",
      "  1793-Washington             0\n",
      "  1797-Adams                  0\n",
      "  1801-Jefferson              0\n",
      "  1805-Jefferson              0\n",
      "  1809-Madison                0\n",
      "[ reached max_ndoc ... 53 more documents, reached max_nfeat ... 2,432 more features ]\n"
     ]
    }
   ],
   "source": [
    "dfmat_inaug_long <- dfm_select(dfm_inaugural_nostop, min_nchar = 10)\n",
    "print(dfmat_inaug_long)"
   ]
  },
  {
   "cell_type": "markdown",
   "metadata": {
    "id": "-QeITqPR449O"
   },
   "source": [
    "Quanteda es tremendamente flexible y permite combinar estos comandos."
   ]
  },
  {
   "cell_type": "code",
   "execution_count": 23,
   "metadata": {
    "colab": {
     "base_uri": "https://localhost:8080/"
    },
    "executionInfo": {
     "elapsed": 257,
     "status": "ok",
     "timestamp": 1689178818782,
     "user": {
      "displayName": "Fernando Diaz",
      "userId": "16819680563727310863"
     },
     "user_tz": 240
    },
    "id": "vC52Iwk744qO",
    "outputId": "25e53ffe-f913-4f11-d0c2-df6185df530b",
    "vscode": {
     "languageId": "r"
    }
   },
   "outputs": [
    {
     "name": "stdout",
     "output_type": "stream",
     "text": [
      "Document-feature matrix of: 59 documents, 11 features (6.01% sparse) and 4 docvars.\n",
      "                 features\n",
      "docs              countri can time nation may peopl govern great world right\n",
      "  1789-Washington       5   9    1      4   6     4      9     3     1     2\n",
      "  1793-Washington       1   0    0      0   1     1      1     0     0     0\n",
      "  1797-Adams           10   9    3     24  13    20     20     5     3     2\n",
      "  1801-Jefferson        4   3    0      4   8     2     14     2     3     7\n",
      "  1805-Jefferson        5   6    6      6  10     0      3     1     2     4\n",
      "  1809-Madison          5   5    1     10   1     1      0     0     2     5\n",
      "[ reached max_ndoc ... 53 more documents, reached max_nfeat ... 1 more feature ]\n"
     ]
    }
   ],
   "source": [
    "dfm_inaug__stem_docfreq <- dfm_trim(dfm_inaug_stem, min_docfreq = 0.90, docfreq_type = \"prop\")\n",
    "\n",
    "print(dfm_inaug__stem_docfreq)"
   ]
  },
  {
   "cell_type": "markdown",
   "metadata": {
    "id": "4o98qg1E6Rn2"
   },
   "source": [
    "Sólo 11 características aparecen en más del 90% de los documentos....pero sólo vemos 10!"
   ]
  },
  {
   "cell_type": "code",
   "execution_count": 24,
   "metadata": {
    "colab": {
     "base_uri": "https://localhost:8080/"
    },
    "executionInfo": {
     "elapsed": 275,
     "status": "ok",
     "timestamp": 1689179053262,
     "user": {
      "displayName": "Fernando Diaz",
      "userId": "16819680563727310863"
     },
     "user_tz": 240
    },
    "id": "HWHCw7TW6oBn",
    "outputId": "d1faac7e-f2af-498c-c8be-63d1bd179b25",
    "vscode": {
     "languageId": "r"
    }
   },
   "outputs": [
    {
     "name": "stdout",
     "output_type": "stream",
     "text": [
      " nation   peopl countri     can   great      us   right    time     may  govern \n",
      "     58      57      56      56      56      56      55      54      54      54 \n",
      "  world \n",
      "     54 \n"
     ]
    }
   ],
   "source": [
    "print(topfeatures(dfm_inaug_stem,11, scheme = \"docfreq\"))\n"
   ]
  }
 ],
 "metadata": {
  "colab": {
   "authorship_tag": "ABX9TyPEukkjUvvgxVs0RKYrXAnm",
   "gpuType": "T4",
   "provenance": []
  },
  "kernelspec": {
   "display_name": "R",
   "language": "R",
   "name": "ir"
  },
  "language_info": {
   "codemirror_mode": "r",
   "file_extension": ".r",
   "mimetype": "text/x-r-source",
   "name": "R",
   "pygments_lexer": "r",
   "version": "4.3.1"
  }
 },
 "nbformat": 4,
 "nbformat_minor": 1
}
